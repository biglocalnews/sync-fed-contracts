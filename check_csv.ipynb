{
 "cells": [
  {
   "cell_type": "markdown",
   "id": "a77e805b-c727-47f6-be5b-b32ec0a482bd",
   "metadata": {},
   "source": [
    "# Terrible messy notebook...\n",
    "..loading the JSON files to a pandas dataframe and then comparing the summary stats of the columns that should align with Mike's CSV. Extra cleaning on my end resolved the vast majority of points of conflit. Exported for manual review. (Do the aggregated columns make sense to aggregate? Notes on the persistent conflicts.)"
   ]
  },
  {
   "cell_type": "code",
   "execution_count": 489,
   "id": "88c6a2cd-1e67-40e8-92d7-c463305994d2",
   "metadata": {},
   "outputs": [
    {
     "name": "stderr",
     "output_type": "stream",
     "text": [
      "/tmp/ipykernel_110857/1759101205.py:23: SettingWithCopyWarning: \n",
      "A value is trying to be set on a copy of a slice from a DataFrame.\n",
      "Try using .loc[row_indexer,col_indexer] = value instead\n",
      "\n",
      "See the caveats in the documentation: https://pandas.pydata.org/pandas-docs/stable/user_guide/indexing.html#returning-a-view-versus-a-copy\n",
      "  fdf[\"filedate\"] = pandas.to_datetime(fdf[\"filedate\"])\n",
      "/tmp/ipykernel_110857/1759101205.py:24: SettingWithCopyWarning: \n",
      "A value is trying to be set on a copy of a slice from a DataFrame.\n",
      "Try using .loc[row_indexer,col_indexer] = value instead\n",
      "\n",
      "See the caveats in the documentation: https://pandas.pydata.org/pandas-docs/stable/user_guide/indexing.html#returning-a-view-versus-a-copy\n",
      "  fdf[\"relevantContractDates__effectiveDate\"] = fdf[[\"content__award__relevantContractDates__effectiveDate\",\n"
     ]
    }
   ],
   "source": [
    "import pandas,os\n",
    "SAVEDIR = \"data/cancelled_contracts\"\n",
    "\n",
    "## Mike isn't manually catching these and I don't know why he doesn't seem to have to\n",
    "NA_STRS = [\"N/A\",\"NULL\"]\n",
    "\n",
    "dfs=[]\n",
    "             \n",
    "for file in os.listdir(SAVEDIR):\n",
    "    if file[-4:] == \"json\":\n",
    "        reason = file[-6]\n",
    "        ndf = pandas.read_json(SAVEDIR+\"/\"+file)\n",
    "        ndf[\"filedate\"] = file.split(\"contracts-\")[-1].split(\"_\")[0]\n",
    "        ndf[\"filename\"] = file\n",
    "        ndf[\"reason_code\"] = reason\n",
    "        dfs.append(ndf)\n",
    "\n",
    "df = pandas.concat(dfs)\n",
    "df = df.replace(NA_STRS, None)\n",
    "df.describe().transpose().head(50)\n",
    "\n",
    "fdf = df[df[\"reason_code\"]==\"F\"]\n",
    "fdf[\"filedate\"] = pandas.to_datetime(fdf[\"filedate\"])\n",
    "fdf[\"relevantContractDates__effectiveDate\"] = fdf[[\"content__award__relevantContractDates__effectiveDate\",\n",
    "                                                   \"content__IDV__relevantContractDates__effectiveDate\",\n",
    "                                                   \"content__OtherTransactionAward__contractDetail__relevantContractDates__effectiveDate\"]].fillna('').sum(axis=1)\n",
    "\n",
    "rosief = fdf[fdf[\"filedate\"]<=\"2025-03-16\"]"
   ]
  },
  {
   "cell_type": "code",
   "execution_count": 490,
   "id": "ce77bb47-7e32-40bf-bc22-8ff3f56cc964",
   "metadata": {},
   "outputs": [
    {
     "name": "stderr",
     "output_type": "stream",
     "text": [
      "/tmp/ipykernel_110857/1934416055.py:1: DtypeWarning: Columns (13,25,27,43,139,143) have mixed types. Specify dtype option on import or set low_memory=False.\n",
      "  mikef = pandas.read_csv(\"data/collected_F-3-19.csv\")\n"
     ]
    },
    {
     "data": {
      "text/html": [
       "<div>\n",
       "<style scoped>\n",
       "    .dataframe tbody tr th:only-of-type {\n",
       "        vertical-align: middle;\n",
       "    }\n",
       "\n",
       "    .dataframe tbody tr th {\n",
       "        vertical-align: top;\n",
       "    }\n",
       "\n",
       "    .dataframe thead th {\n",
       "        text-align: right;\n",
       "    }\n",
       "</style>\n",
       "<table border=\"1\" class=\"dataframe\">\n",
       "  <thead>\n",
       "    <tr style=\"text-align: right;\">\n",
       "      <th></th>\n",
       "      <th>placeOfPerformanceZIPCode</th>\n",
       "      <th>placeOfPerformanceZIPCode__county</th>\n",
       "      <th>placeOfPerformanceZIPCode__city</th>\n",
       "      <th>placeOfPerformanceCongressionalDistrict</th>\n",
       "    </tr>\n",
       "    <tr>\n",
       "      <th>contract_type</th>\n",
       "      <th></th>\n",
       "      <th></th>\n",
       "      <th></th>\n",
       "      <th></th>\n",
       "    </tr>\n",
       "  </thead>\n",
       "  <tbody>\n",
       "    <tr>\n",
       "      <th>AWARD</th>\n",
       "      <td>2655</td>\n",
       "      <td>482</td>\n",
       "      <td>901</td>\n",
       "      <td>52</td>\n",
       "    </tr>\n",
       "    <tr>\n",
       "      <th>IDV</th>\n",
       "      <td>0</td>\n",
       "      <td>0</td>\n",
       "      <td>0</td>\n",
       "      <td>0</td>\n",
       "    </tr>\n",
       "    <tr>\n",
       "      <th>OTHERTRANSACTIONAWARD</th>\n",
       "      <td>1</td>\n",
       "      <td>1</td>\n",
       "      <td>1</td>\n",
       "      <td>1</td>\n",
       "    </tr>\n",
       "  </tbody>\n",
       "</table>\n",
       "</div>"
      ],
      "text/plain": [
       "                       placeOfPerformanceZIPCode  \\\n",
       "contract_type                                      \n",
       "AWARD                                       2655   \n",
       "IDV                                            0   \n",
       "OTHERTRANSACTIONAWARD                          1   \n",
       "\n",
       "                       placeOfPerformanceZIPCode__county  \\\n",
       "contract_type                                              \n",
       "AWARD                                                482   \n",
       "IDV                                                    0   \n",
       "OTHERTRANSACTIONAWARD                                  1   \n",
       "\n",
       "                       placeOfPerformanceZIPCode__city  \\\n",
       "contract_type                                            \n",
       "AWARD                                              901   \n",
       "IDV                                                  0   \n",
       "OTHERTRANSACTIONAWARD                                1   \n",
       "\n",
       "                       placeOfPerformanceCongressionalDistrict  \n",
       "contract_type                                                   \n",
       "AWARD                                                       52  \n",
       "IDV                                                          0  \n",
       "OTHERTRANSACTIONAWARD                                        1  "
      ]
     },
     "execution_count": 490,
     "metadata": {},
     "output_type": "execute_result"
    }
   ],
   "source": [
    "mikef = pandas.read_csv(\"data/collected_F-3-19.csv\")\n",
    "mikef = mikef[mikef[\"filedate\"]<=\"2025-03-16\"]\n",
    "mikef_cols = pandas.Series(mikef.columns)\n",
    "mikef_cols_temp = mikef_cols[mikef_cols.str.contains(\"placeOfPerformance\")]\n",
    "mikef.groupby(\"contract_type\")[mikef_cols_temp].nunique()#.describe().head().transpose().head(50)#[\"dollarValues__obligatedAmount\"].sum()"
   ]
  },
  {
   "cell_type": "code",
   "execution_count": 491,
   "id": "6f021e36-86e8-4d31-acdd-79664044b400",
   "metadata": {},
   "outputs": [],
   "source": [
    "## Cleaning for better alignment!\n",
    "\n",
    "def summary_sum(s):\n",
    "    try:\n",
    "        pandas.to_numeric(s).sum()\n",
    "    except:\n",
    "        return 0\n",
    "\n",
    "def agg(row,cols,method):\n",
    "    row[cols].agg(method)\n",
    "\n",
    "def count_nunique(cols,df):\n",
    "    ls = []\n",
    "    for col in cols:\n",
    "        ls += df[col].to_list()\n",
    "    return pandas.Series(ls).nunique()\n",
    "\n",
    "\n",
    "## Maybe could have avoided all of this by making them all strings to start out with\n",
    "def make_str_coerce_floats_to_int(messy_str,zfill=None):\n",
    "    if pandas.isna(messy_str):\n",
    "        return None\n",
    "    else:\n",
    "        temp = str(messy_str).split(\".\")[0]\n",
    "        if zfill:\n",
    "            return temp.zfill(zfill)\n",
    "        return temp\n",
    "    \n",
    "rosief[\"content__award__awardID__awardContractID__agencyID\"] = rosief[\"content__award__awardID__awardContractID__agencyID\"].apply(make_str_coerce_floats_to_int)\n",
    "mikef[\"awardContractID__agencyID\"] = mikef[\"awardContractID__agencyID\"].apply(make_str_coerce_floats_to_int)\n",
    "\n",
    "rosief[['content__award__purchaserInformation__contractingOfficeAgencyID',\n",
    "        'content__IDV__purchaserInformation__contractingOfficeAgencyID',\n",
    "        'content__OtherTransactionAward__contractDetail__purchaserInformation__contractingOfficeAgencyID']] = rosief[['content__award__purchaserInformation__contractingOfficeAgencyID',\n",
    "                                                                                                                      'content__IDV__purchaserInformation__contractingOfficeAgencyID',\n",
    "                                                                                                                      'content__OtherTransactionAward__contractDetail__purchaserInformation__contractingOfficeAgencyID']].map(make_str_coerce_floats_to_int)\n",
    "mikef[\"contractingOfficeAgencyID\"] = mikef[\"contractingOfficeAgencyID\"].apply(make_str_coerce_floats_to_int)\n",
    "\n",
    "rosief[['content__award__purchaserInformation__contractingOfficeAgencyID__departmentID',\n",
    "        'content__IDV__purchaserInformation__contractingOfficeAgencyID__departmentID',\n",
    "        'content__OtherTransactionAward__contractDetail__purchaserInformation__contractingOfficeAgencyID__departmentID']] = rosief[['content__award__purchaserInformation__contractingOfficeAgencyID__departmentID',\n",
    "                                                                                                                                    'content__IDV__purchaserInformation__contractingOfficeAgencyID__departmentID',\n",
    "                                                                                                                                    'content__OtherTransactionAward__contractDetail__purchaserInformation__contractingOfficeAgencyID__departmentID']].map(make_str_coerce_floats_to_int)\n",
    "mikef['contractingOfficeAgencyID__departmentID'] = mikef['contractingOfficeAgencyID__departmentID'].apply(make_str_coerce_floats_to_int)\n",
    "\n",
    "rosief[\"content__award__placeOfPerformance__placeOfPerformanceZIPCode\"] = rosief[\"content__award__placeOfPerformance__placeOfPerformanceZIPCode\"].apply(lambda x: make_str_coerce_floats_to_int(x,zfill=9))\n",
    "rosief[\"content__OtherTransactionAward__contractDetail__placeOfPerformance__placeOfPerformanceZIPCode\"] = rosief[\"content__OtherTransactionAward__contractDetail__placeOfPerformance__placeOfPerformanceZIPCode\"].apply(lambda x: make_str_coerce_floats_to_int(x,zfill=9))\n",
    "mikef[\"placeOfPerformanceZIPCode\"] = mikef[\"placeOfPerformanceZIPCode\"].apply(lambda x: make_str_coerce_floats_to_int(x,zfill=9))\n",
    "\n",
    "rosief[['content__award__vendor__vendorSiteDetails__vendorLocation__ZIPCode',\n",
    "         'content__IDV__vendor__vendorSiteDetails__vendorLocation__ZIPCode',\n",
    "         'content__OtherTransactionAward__contractDetail__vendor__vendorSiteDetails__vendorLocation__ZIPCode']] = rosief[['content__award__vendor__vendorSiteDetails__vendorLocation__ZIPCode',\n",
    "                                                                                                                             'content__IDV__vendor__vendorSiteDetails__vendorLocation__ZIPCode',\n",
    "                                                                                                                             'content__OtherTransactionAward__contractDetail__vendor__vendorSiteDetails__vendorLocation__ZIPCode']].map(make_str_coerce_floats_to_int,zfill=9)\n",
    "\n",
    "mikef[\"vendorLocation__ZIPCode\"] = mikef[\"vendorLocation__ZIPCode\"].apply(lambda x: make_str_coerce_floats_to_int(x,zfill=9))\n",
    "\n",
    "rosief[['content__award__vendor__vendorSiteDetails__vendorLocation__phoneNo',\n",
    "         'content__IDV__vendor__vendorSiteDetails__vendorLocation__phoneNo',\n",
    "         'content__OtherTransactionAward__contractDetail__vendor__vendorSiteDetails__vendorLocation__phoneNo']] = rosief[['content__award__vendor__vendorSiteDetails__vendorLocation__phoneNo',\n",
    "                                                                                                                         'content__IDV__vendor__vendorSiteDetails__vendorLocation__phoneNo',\n",
    "                                                                                                                         'content__OtherTransactionAward__contractDetail__vendor__vendorSiteDetails__vendorLocation__phoneNo']].map(make_str_coerce_floats_to_int)\n",
    "mikef[\"vendorLocation__phoneNo\"] = mikef[\"vendorLocation__phoneNo\"].apply(make_str_coerce_floats_to_int)\n"
   ]
  },
  {
   "cell_type": "code",
   "execution_count": 492,
   "id": "c5ea57f8-6d9a-4087-ad71-94c79a6c8a9f",
   "metadata": {},
   "outputs": [],
   "source": [
    "def list_vals(coln,df2):\n",
    "    df2_cols = pandas.Series(df2.columns)\n",
    "    relevant = df2_cols[df2_cols.str.endswith(coln)]\n",
    "    rel_ls = relevant.to_list()\n",
    "    return rel_ls\n",
    "    \n",
    "mikef_col_df = pandas.DataFrame(mikef_cols)\n",
    "mikef_col_df.columns = [\"column_name\"]\n",
    "mikef_col_df[\"aggregated_cols\"] = mikef_col_df[\"column_name\"].apply(lambda x: list_vals(x,rosief))\n",
    "mikef_col_df[\"count_agg_cols\"] = mikef_col_df[\"aggregated_cols\"].apply(len)\n",
    "mikef_col_df[mikef_col_df[\"count_agg_cols\"]==4][\"aggregated_cols\"].loc[8]\n",
    "\n",
    "mikef_col_df[\"mike_count\"] = mikef_col_df[\"column_name\"].apply(lambda x: mikef[x].count())\n",
    "mikef_col_df[\"mike_sum\"] = mikef_col_df[\"column_name\"].apply(lambda x: summary_sum(x))\n",
    "mikef_col_df[\"mike_nunique\"] = mikef_col_df[\"column_name\"].apply(lambda x: mikef[x].nunique())\n",
    "\n",
    "mikef_col_df[\"rosie_count\"] = mikef_col_df.apply(lambda x: rosief[x[\"aggregated_cols\"]].count().sum(),axis=1)\n",
    "mikef_col_df[\"rosie_sum\"] = mikef_col_df.apply(lambda x: rosief[x[\"aggregated_cols\"]].apply(summary_sum).sum(),axis=1)\n",
    "mikef_col_df[\"rosie_nunique\"] = mikef_col_df[\"aggregated_cols\"].apply(lambda x: count_nunique(x,rosief))\n",
    "\n",
    "mikef_col_df[\"counts_match\"] = mikef_col_df[\"mike_count\"] == mikef_col_df[\"rosie_count\"]\n",
    "mikef_col_df[\"sums_match\"] = mikef_col_df[\"mike_sum\"] == mikef_col_df[\"rosie_sum\"]\n",
    "mikef_col_df[\"nunique_match\"] = mikef_col_df[\"mike_nunique\"] == mikef_col_df[\"rosie_nunique\"]\n",
    "\n",
    "mikef_col_df.to_csv(\"data/processed/column_review.csv\")"
   ]
  },
  {
   "cell_type": "code",
   "execution_count": 494,
   "id": "6ef0139a-e80d-4686-8709-ca9719512bc0",
   "metadata": {},
   "outputs": [
    {
     "data": {
      "text/html": [
       "<div>\n",
       "<style scoped>\n",
       "    .dataframe tbody tr th:only-of-type {\n",
       "        vertical-align: middle;\n",
       "    }\n",
       "\n",
       "    .dataframe tbody tr th {\n",
       "        vertical-align: top;\n",
       "    }\n",
       "\n",
       "    .dataframe thead th {\n",
       "        text-align: right;\n",
       "    }\n",
       "</style>\n",
       "<table border=\"1\" class=\"dataframe\">\n",
       "  <thead>\n",
       "    <tr style=\"text-align: right;\">\n",
       "      <th></th>\n",
       "      <th>column_name</th>\n",
       "      <th>aggregated_cols</th>\n",
       "      <th>count_agg_cols</th>\n",
       "      <th>mike_count</th>\n",
       "      <th>mike_sum</th>\n",
       "      <th>mike_nunique</th>\n",
       "      <th>rosie_count</th>\n",
       "      <th>rosie_sum</th>\n",
       "      <th>rosie_nunique</th>\n",
       "      <th>counts_match</th>\n",
       "      <th>sums_match</th>\n",
       "      <th>nunique_match</th>\n",
       "    </tr>\n",
       "  </thead>\n",
       "  <tbody>\n",
       "    <tr>\n",
       "      <th>2</th>\n",
       "      <td>reasoncode</td>\n",
       "      <td>[]</td>\n",
       "      <td>0</td>\n",
       "      <td>20626</td>\n",
       "      <td>0</td>\n",
       "      <td>1</td>\n",
       "      <td>0</td>\n",
       "      <td>0.0</td>\n",
       "      <td>0</td>\n",
       "      <td>False</td>\n",
       "      <td>True</td>\n",
       "      <td>False</td>\n",
       "    </tr>\n",
       "    <tr>\n",
       "      <th>8</th>\n",
       "      <td>relevantContractDates__effectiveDate</td>\n",
       "      <td>[content__award__relevantContractDates__effect...</td>\n",
       "      <td>4</td>\n",
       "      <td>20626</td>\n",
       "      <td>0</td>\n",
       "      <td>2078</td>\n",
       "      <td>41252</td>\n",
       "      <td>0.0</td>\n",
       "      <td>2078</td>\n",
       "      <td>False</td>\n",
       "      <td>True</td>\n",
       "      <td>True</td>\n",
       "    </tr>\n",
       "    <tr>\n",
       "      <th>47</th>\n",
       "      <td>content__award__contractData__solicitationID</td>\n",
       "      <td>[content__award__contractData__solicitationID]</td>\n",
       "      <td>1</td>\n",
       "      <td>0</td>\n",
       "      <td>0</td>\n",
       "      <td>0</td>\n",
       "      <td>3257</td>\n",
       "      <td>0.0</td>\n",
       "      <td>1979</td>\n",
       "      <td>False</td>\n",
       "      <td>True</td>\n",
       "      <td>False</td>\n",
       "    </tr>\n",
       "  </tbody>\n",
       "</table>\n",
       "</div>"
      ],
      "text/plain": [
       "                                     column_name  \\\n",
       "2                                     reasoncode   \n",
       "8           relevantContractDates__effectiveDate   \n",
       "47  content__award__contractData__solicitationID   \n",
       "\n",
       "                                      aggregated_cols  count_agg_cols  \\\n",
       "2                                                  []               0   \n",
       "8   [content__award__relevantContractDates__effect...               4   \n",
       "47     [content__award__contractData__solicitationID]               1   \n",
       "\n",
       "    mike_count  mike_sum  mike_nunique  rosie_count  rosie_sum  rosie_nunique  \\\n",
       "2        20626         0             1            0        0.0              0   \n",
       "8        20626         0          2078        41252        0.0           2078   \n",
       "47           0         0             0         3257        0.0           1979   \n",
       "\n",
       "    counts_match  sums_match  nunique_match  \n",
       "2          False        True          False  \n",
       "8          False        True           True  \n",
       "47         False        True          False  "
      ]
     },
     "execution_count": 494,
     "metadata": {},
     "output_type": "execute_result"
    }
   ],
   "source": [
    "rosief[\"content__award__awardID__awardContractID__agencyID\"] = rosief[\"content__award__awardID__awardContractID__agencyID\"].apply(make_str_coerce_floats_to_int)\n",
    "mikef[\"awardContractID__agencyID\"] = mikef[\"awardContractID__agencyID\"].apply(make_str_coerce_floats_to_int)\n",
    "\n",
    "mikef_col_df[~mikef_col_df[\"counts_match\"]]#[\"aggregated_cols\"].iloc[-1]"
   ]
  },
  {
   "cell_type": "markdown",
   "id": "2d805dcc-9352-4ea2-be49-b1ecf66b7916",
   "metadata": {},
   "source": [
    "# The rest of this is junk/scratch notes!"
   ]
  },
  {
   "cell_type": "code",
   "execution_count": 390,
   "id": "b2edc82f-e396-4b43-afc6-1a37fb07e39e",
   "metadata": {},
   "outputs": [
    {
     "data": {
      "text/html": [
       "<div>\n",
       "<style scoped>\n",
       "    .dataframe tbody tr th:only-of-type {\n",
       "        vertical-align: middle;\n",
       "    }\n",
       "\n",
       "    .dataframe tbody tr th {\n",
       "        vertical-align: top;\n",
       "    }\n",
       "\n",
       "    .dataframe thead th {\n",
       "        text-align: right;\n",
       "    }\n",
       "</style>\n",
       "<table border=\"1\" class=\"dataframe\">\n",
       "  <thead>\n",
       "    <tr style=\"text-align: right;\">\n",
       "      <th></th>\n",
       "      <th>m</th>\n",
       "      <th>r</th>\n",
       "    </tr>\n",
       "  </thead>\n",
       "  <tbody>\n",
       "  </tbody>\n",
       "</table>\n",
       "</div>"
      ],
      "text/plain": [
       "Empty DataFrame\n",
       "Columns: [m, r]\n",
       "Index: []"
      ]
     },
     "execution_count": 390,
     "metadata": {},
     "output_type": "execute_result"
    }
   ],
   "source": [
    "rosie_zips = pandas.concat([rosief[\"content__award__placeOfPerformance__placeOfPerformanceZIPCode\"],rosief[\"content__OtherTransactionAward__contractDetail__placeOfPerformance__placeOfPerformanceZIPCode\"]])\n",
    "rosie_zips.value_counts()\n",
    "\n",
    "temp = pandas.concat([mikef[\"placeOfPerformanceZIPCode\"].value_counts(),rosie_zips.value_counts()], axis=1)\n",
    "temp.columns = [\"m\",\"r\"]\n",
    "temp[temp[\"m\"]!=temp[\"r\"]]"
   ]
  },
  {
   "cell_type": "code",
   "execution_count": 391,
   "id": "8c476483-1563-4819-aa9c-fa8757a13a9a",
   "metadata": {},
   "outputs": [
    {
     "data": {
      "text/html": [
       "<div>\n",
       "<style scoped>\n",
       "    .dataframe tbody tr th:only-of-type {\n",
       "        vertical-align: middle;\n",
       "    }\n",
       "\n",
       "    .dataframe tbody tr th {\n",
       "        vertical-align: top;\n",
       "    }\n",
       "\n",
       "    .dataframe thead th {\n",
       "        text-align: right;\n",
       "    }\n",
       "</style>\n",
       "<table border=\"1\" class=\"dataframe\">\n",
       "  <thead>\n",
       "    <tr style=\"text-align: right;\">\n",
       "      <th></th>\n",
       "      <th>rosie_count</th>\n",
       "      <th>mike_count</th>\n",
       "    </tr>\n",
       "    <tr>\n",
       "      <th>temp_zip_col</th>\n",
       "      <th></th>\n",
       "      <th></th>\n",
       "    </tr>\n",
       "  </thead>\n",
       "  <tbody>\n",
       "  </tbody>\n",
       "</table>\n",
       "</div>"
      ],
      "text/plain": [
       "Empty DataFrame\n",
       "Columns: [rosie_count, mike_count]\n",
       "Index: []"
      ]
     },
     "execution_count": 391,
     "metadata": {},
     "output_type": "execute_result"
    }
   ],
   "source": [
    "\n",
    "#df['combined'] = df['col1'].fillna(df['col2'])\n",
    "\n",
    "rosief[\"combine_zip\"] = rosief['content__award__placeOfPerformance__placeOfPerformanceZIPCode'].fillna(rosief['content__OtherTransactionAward__contractDetail__placeOfPerformance__placeOfPerformanceZIPCode'])\n",
    "rosief[\"temp_zip_col\"] = rosief[\"combine_zip\"].apply(lambda x: str(x).split(\".\")[0]).str.zfill(9)\n",
    "mikef[\"temp_zip_col\"] = mikef[\"placeOfPerformanceZIPCode\"].apply(lambda x: str(x).split(\".\")[0]).str.zfill(9)\n",
    "\n",
    "zip_temp = pandas.concat([rosief[\"temp_zip_col\"].value_counts(),mikef[\"temp_zip_col\"].value_counts()],axis=1)\n",
    "zip_temp.columns = [\"rosie_count\",\"mike_count\"]\n",
    "zip_temp[zip_temp[\"rosie_count\"]!=zip_temp[\"mike_count\"]]"
   ]
  },
  {
   "cell_type": "code",
   "execution_count": 479,
   "id": "d6eb8749-6f33-456e-915a-0c9cf7f1e19d",
   "metadata": {},
   "outputs": [
    {
     "data": {
      "text/plain": [
       "['content__award__vendor__vendorSiteDetails__vendorLocation__phoneNo',\n",
       " 'content__IDV__vendor__vendorSiteDetails__vendorLocation__phoneNo',\n",
       " 'content__OtherTransactionAward__contractDetail__vendor__vendorSiteDetails__vendorLocation__phoneNo']"
      ]
     },
     "execution_count": 479,
     "metadata": {},
     "output_type": "execute_result"
    }
   ],
   "source": [
    "mikef_col_df[~mikef_col_df[\"nunique_match\"]][\"aggregated_cols\"].iloc[-1]"
   ]
  },
  {
   "cell_type": "code",
   "execution_count": 440,
   "id": "1c2d88dd-b943-4752-9151-19a827c6f30e",
   "metadata": {},
   "outputs": [
    {
     "data": {
      "text/plain": [
       "contract_type\n",
       "AWARD                    122\n",
       "IDV                       45\n",
       "OTHERTRANSACTIONAWARD      1\n",
       "Name: temp_contract_off_id, dtype: int64"
      ]
     },
     "execution_count": 440,
     "metadata": {},
     "output_type": "execute_result"
    }
   ],
   "source": [
    "rosief[\"temp_contract_off_id\"] = rosief[['content__award__purchaserInformation__contractingOfficeAgencyID',\n",
    "                                      'content__IDV__purchaserInformation__contractingOfficeAgencyID',\n",
    "                                      'content__OtherTransactionAward__contractDetail__purchaserInformation__contractingOfficeAgencyID']].fillna(\"\").astype(str).sum(axis=1)\n",
    "\n",
    "rosief[\"temp_contract_off_id\"] = rosief[\"temp_contract_off_id\"].apply(make_str_coerce_floats_to_int)\n",
    "rosief.groupby(\"contract_type\")[\"temp_contract_off_id\"].nunique()"
   ]
  },
  {
   "cell_type": "code",
   "execution_count": 459,
   "id": "bb18be11-ca8c-4bbb-87b9-5cfa8019afa4",
   "metadata": {},
   "outputs": [
    {
     "data": {
      "text/plain": [
       "contract_type\n",
       "AWARD                    122\n",
       "IDV                       45\n",
       "OTHERTRANSACTIONAWARD      1\n",
       "Name: contractingOfficeAgencyID, dtype: int64"
      ]
     },
     "execution_count": 459,
     "metadata": {},
     "output_type": "execute_result"
    }
   ],
   "source": [
    "rosief[\"temp_contract_off_id\"] = rosief[\"temp_contract_off_id\"].apply(make_str_coerce_floats_to_int)\n",
    "mikef.groupby(\"contract_type\")[\"contractingOfficeAgencyID\"].nunique()"
   ]
  },
  {
   "cell_type": "code",
   "execution_count": 458,
   "id": "49305169-5d56-44f9-86c4-b64da43bea88",
   "metadata": {},
   "outputs": [
    {
     "data": {
      "text/plain": [
       "contractingOfficeAgencyID\n",
       "4732    4096\n",
       "Name: count, dtype: int64"
      ]
     },
     "execution_count": 458,
     "metadata": {},
     "output_type": "execute_result"
    }
   ],
   "source": [
    "mikef[mikef[\"contractingOfficeAgencyID\"].isin(rosief[\"temp_contract_off_id\"])==False][\"contractingOfficeAgencyID\"].value_counts()"
   ]
  },
  {
   "cell_type": "code",
   "execution_count": 449,
   "id": "55630339-802c-4e48-a3fc-948b1030992f",
   "metadata": {},
   "outputs": [
    {
     "data": {
      "text/plain": [
       "'DELIVERY ORDER 47QSSC25F3UL7 (P00001) awarded to JLWS ENTERPRISES INCORPORATED, was modified for the amount of -$804.05'"
      ]
     },
     "execution_count": 449,
     "metadata": {},
     "output_type": "execute_result"
    }
   ],
   "source": [
    "mikef[mikef[\"contractingOfficeAgencyID\"]==\"4732\"].head().transpose().head(50)[0].title"
   ]
  },
  {
   "cell_type": "code",
   "execution_count": 456,
   "id": "bf66474e-2f03-4272-a779-fdd967a6ad70",
   "metadata": {},
   "outputs": [
    {
     "data": {
      "text/plain": [
       "0    4732\n",
       "Name: temp_contract_off_id, dtype: object"
      ]
     },
     "execution_count": 456,
     "metadata": {},
     "output_type": "execute_result"
    }
   ],
   "source": [
    "TITLE = 'DELIVERY ORDER 47QSSC25F3UL7 (P00001) awarded to JLWS ENTERPRISES INCORPORATED, was modified for the amount of -$804.05'\n",
    "\n",
    "rosief[(rosief[\"filename\"]==\"contracts-2025-01-20_F.json\")&(rosief[\"title\"]==TITLE)][\"temp_contract_off_id\"]"
   ]
  },
  {
   "cell_type": "code",
   "execution_count": 457,
   "id": "ceaa251a-081a-43f4-b910-5d2599cd65a2",
   "metadata": {},
   "outputs": [
    {
     "data": {
      "text/plain": [
       "True"
      ]
     },
     "execution_count": 457,
     "metadata": {},
     "output_type": "execute_result"
    }
   ],
   "source": [
    "4732 in rosief[\"temp_contract_off_id\"]"
   ]
  },
  {
   "cell_type": "code",
   "execution_count": 432,
   "id": "ace9c818-cfbc-4716-bf0e-47359decbb93",
   "metadata": {},
   "outputs": [
    {
     "data": {
      "text/plain": [
       "temp_contract_off_id\n",
       "4732    13505\n",
       "97AS     2239\n",
       "7523      540\n",
       "3600      447\n",
       "7200      249\n",
       "        ...  \n",
       "6947        1\n",
       "1145        1\n",
       "4730        1\n",
       "4704        1\n",
       "1549        1\n",
       "Name: count, Length: 126, dtype: int64"
      ]
     },
     "execution_count": 432,
     "metadata": {},
     "output_type": "execute_result"
    }
   ],
   "source": [
    "rosief[\"temp_contract_off_id\"].value_counts()"
   ]
  },
  {
   "cell_type": "code",
   "execution_count": 244,
   "id": "f9fe5481-fbad-42d0-a8b2-db5866e7dd21",
   "metadata": {},
   "outputs": [
    {
     "data": {
      "text/html": [
       "<div>\n",
       "<style scoped>\n",
       "    .dataframe tbody tr th:only-of-type {\n",
       "        vertical-align: middle;\n",
       "    }\n",
       "\n",
       "    .dataframe tbody tr th {\n",
       "        vertical-align: top;\n",
       "    }\n",
       "\n",
       "    .dataframe thead th {\n",
       "        text-align: right;\n",
       "    }\n",
       "</style>\n",
       "<table border=\"1\" class=\"dataframe\">\n",
       "  <thead>\n",
       "    <tr style=\"text-align: right;\">\n",
       "      <th></th>\n",
       "      <th>rosie_count</th>\n",
       "      <th>mike_count</th>\n",
       "    </tr>\n",
       "  </thead>\n",
       "  <tbody>\n",
       "    <tr>\n",
       "      <th></th>\n",
       "      <td>131</td>\n",
       "      <td>NaN</td>\n",
       "    </tr>\n",
       "  </tbody>\n",
       "</table>\n",
       "</div>"
      ],
      "text/plain": [
       "  rosie_count  mike_count\n",
       "          131         NaN"
      ]
     },
     "execution_count": 244,
     "metadata": {},
     "output_type": "execute_result"
    }
   ],
   "source": [
    "rosief.groupby(\"contract_type\")[['content__award__vendor__vendorSiteDetails__vendorLocation__state',\n",
    " 'content__IDV__vendor__vendorSiteDetails__vendorLocation__state',\n",
    " 'content__OtherTransactionAward__contractDetail__vendor__vendorSiteDetails__vendorLocation__state']].count()\n",
    "\n",
    "rosief[\"temp_vendor_state\"] = rosief[['content__award__vendor__vendorSiteDetails__vendorLocation__state',\n",
    " 'content__IDV__vendor__vendorSiteDetails__vendorLocation__state',\n",
    " 'content__OtherTransactionAward__contractDetail__vendor__vendorSiteDetails__vendorLocation__state']].fillna('').sum(axis=1)\n",
    "\n",
    "rosief[\"temp_vendor_state\"].value_counts()\n",
    "\n",
    "state_temp = pandas.concat([rosief[\"temp_vendor_state\"].value_counts(),mikef[\"vendorLocation__state\"].value_counts()],axis=1)\n",
    "state_temp.columns = [\"rosie_count\",\"mike_count\"]\n",
    "state_temp[state_temp[\"rosie_count\"]!=state_temp[\"mike_count\"]]"
   ]
  },
  {
   "cell_type": "code",
   "execution_count": 254,
   "id": "fc25d6ef-7ba0-48f1-b52c-ce1ea64253a1",
   "metadata": {},
   "outputs": [
    {
     "data": {
      "text/plain": [
       "array(['nan'], dtype=object)"
      ]
     },
     "execution_count": 254,
     "metadata": {},
     "output_type": "execute_result"
    }
   ],
   "source": [
    "mikef[\"content__award__contractData__solicitationID\"].unique()"
   ]
  },
  {
   "cell_type": "code",
   "execution_count": 255,
   "id": "38863159-92b3-44f2-bb99-ab069a03f2e3",
   "metadata": {},
   "outputs": [
    {
     "data": {
      "text/plain": [
       "array(['nan', '47QSMD20R0001', '47QSSC25Q1705', ..., 'SPRDL117Q0310',\n",
       "       'W56ZTN19R0005', 'W91ZLK24R0018'], shape=(1981,), dtype=object)"
      ]
     },
     "execution_count": 255,
     "metadata": {},
     "output_type": "execute_result"
    }
   ],
   "source": [
    "rosief[\"content__award__contractData__solicitationID\"].unique()"
   ]
  }
 ],
 "metadata": {
  "kernelspec": {
   "display_name": "Python 3 (ipykernel)",
   "language": "python",
   "name": "python3"
  },
  "language_info": {
   "codemirror_mode": {
    "name": "ipython",
    "version": 3
   },
   "file_extension": ".py",
   "mimetype": "text/x-python",
   "name": "python",
   "nbconvert_exporter": "python",
   "pygments_lexer": "ipython3",
   "version": "3.12.9"
  }
 },
 "nbformat": 4,
 "nbformat_minor": 5
}
