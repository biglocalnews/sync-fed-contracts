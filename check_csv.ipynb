{
 "cells": [
  {
   "cell_type": "markdown",
   "id": "a77e805b-c727-47f6-be5b-b32ec0a482bd",
   "metadata": {},
   "source": [
    "# A messy comparison between source JSON and composited CSVs ...\n",
    "This performs some data integrity checks, loading the JSON files into pandas dataframes and then comparing the summary statistics of the columns that should align with the extract-to-csvs output. By default it's set up to compare only reason code F, which is busy enough and contains a lot of variety.\n",
    "\n",
    "This looks for the extracted F file in the root directory of the project now.\n",
    "\n",
    "Rosie, @cimar, notes that extra cleaning on her end solved the vast majority of points of conflict in her initial effort, with data through mid-March. Exported for manual review. (Do the aggregated columns make sense to aggregate? Notes on the persistent conflicts.)"
   ]
  },
  {
   "cell_type": "code",
   "execution_count": 1,
   "id": "88c6a2cd-1e67-40e8-92d7-c463305994d2",
   "metadata": {},
   "outputs": [
    {
     "name": "stderr",
     "output_type": "stream",
     "text": [
      "100%|██████████████████████████████████████████████████████████████████| 5/5 [00:00<00:00, 166440.63it/s]\n"
     ]
    },
    {
     "ename": "ValueError",
     "evalue": "No objects to concatenate",
     "output_type": "error",
     "traceback": [
      "\u001b[31m---------------------------------------------------------------------------\u001b[39m",
      "\u001b[31mValueError\u001b[39m                                Traceback (most recent call last)",
      "\u001b[36mCell\u001b[39m\u001b[36m \u001b[39m\u001b[32mIn[1]\u001b[39m\u001b[32m, line 22\u001b[39m\n\u001b[32m     19\u001b[39m         ndf[\u001b[33m\"\u001b[39m\u001b[33mreason_code\u001b[39m\u001b[33m\"\u001b[39m] = reason\n\u001b[32m     20\u001b[39m         dfs.append(ndf)\n\u001b[32m---> \u001b[39m\u001b[32m22\u001b[39m df = \u001b[43mpandas\u001b[49m\u001b[43m.\u001b[49m\u001b[43mconcat\u001b[49m\u001b[43m(\u001b[49m\u001b[43mdfs\u001b[49m\u001b[43m)\u001b[49m\n\u001b[32m     23\u001b[39m df = df.replace(NA_STRS, \u001b[38;5;28;01mNone\u001b[39;00m)\n\u001b[32m     24\u001b[39m df.describe().transpose().head(\u001b[32m50\u001b[39m)\n",
      "\u001b[36mFile \u001b[39m\u001b[32m~/Documents/GitHub/basic/lib/python3.13/site-packages/pandas/core/reshape/concat.py:382\u001b[39m, in \u001b[36mconcat\u001b[39m\u001b[34m(objs, axis, join, ignore_index, keys, levels, names, verify_integrity, sort, copy)\u001b[39m\n\u001b[32m    379\u001b[39m \u001b[38;5;28;01melif\u001b[39;00m copy \u001b[38;5;129;01mand\u001b[39;00m using_copy_on_write():\n\u001b[32m    380\u001b[39m     copy = \u001b[38;5;28;01mFalse\u001b[39;00m\n\u001b[32m--> \u001b[39m\u001b[32m382\u001b[39m op = \u001b[43m_Concatenator\u001b[49m\u001b[43m(\u001b[49m\n\u001b[32m    383\u001b[39m \u001b[43m    \u001b[49m\u001b[43mobjs\u001b[49m\u001b[43m,\u001b[49m\n\u001b[32m    384\u001b[39m \u001b[43m    \u001b[49m\u001b[43maxis\u001b[49m\u001b[43m=\u001b[49m\u001b[43maxis\u001b[49m\u001b[43m,\u001b[49m\n\u001b[32m    385\u001b[39m \u001b[43m    \u001b[49m\u001b[43mignore_index\u001b[49m\u001b[43m=\u001b[49m\u001b[43mignore_index\u001b[49m\u001b[43m,\u001b[49m\n\u001b[32m    386\u001b[39m \u001b[43m    \u001b[49m\u001b[43mjoin\u001b[49m\u001b[43m=\u001b[49m\u001b[43mjoin\u001b[49m\u001b[43m,\u001b[49m\n\u001b[32m    387\u001b[39m \u001b[43m    \u001b[49m\u001b[43mkeys\u001b[49m\u001b[43m=\u001b[49m\u001b[43mkeys\u001b[49m\u001b[43m,\u001b[49m\n\u001b[32m    388\u001b[39m \u001b[43m    \u001b[49m\u001b[43mlevels\u001b[49m\u001b[43m=\u001b[49m\u001b[43mlevels\u001b[49m\u001b[43m,\u001b[49m\n\u001b[32m    389\u001b[39m \u001b[43m    \u001b[49m\u001b[43mnames\u001b[49m\u001b[43m=\u001b[49m\u001b[43mnames\u001b[49m\u001b[43m,\u001b[49m\n\u001b[32m    390\u001b[39m \u001b[43m    \u001b[49m\u001b[43mverify_integrity\u001b[49m\u001b[43m=\u001b[49m\u001b[43mverify_integrity\u001b[49m\u001b[43m,\u001b[49m\n\u001b[32m    391\u001b[39m \u001b[43m    \u001b[49m\u001b[43mcopy\u001b[49m\u001b[43m=\u001b[49m\u001b[43mcopy\u001b[49m\u001b[43m,\u001b[49m\n\u001b[32m    392\u001b[39m \u001b[43m    \u001b[49m\u001b[43msort\u001b[49m\u001b[43m=\u001b[49m\u001b[43msort\u001b[49m\u001b[43m,\u001b[49m\n\u001b[32m    393\u001b[39m \u001b[43m\u001b[49m\u001b[43m)\u001b[49m\n\u001b[32m    395\u001b[39m \u001b[38;5;28;01mreturn\u001b[39;00m op.get_result()\n",
      "\u001b[36mFile \u001b[39m\u001b[32m~/Documents/GitHub/basic/lib/python3.13/site-packages/pandas/core/reshape/concat.py:445\u001b[39m, in \u001b[36m_Concatenator.__init__\u001b[39m\u001b[34m(self, objs, axis, join, keys, levels, names, ignore_index, verify_integrity, copy, sort)\u001b[39m\n\u001b[32m    442\u001b[39m \u001b[38;5;28mself\u001b[39m.verify_integrity = verify_integrity\n\u001b[32m    443\u001b[39m \u001b[38;5;28mself\u001b[39m.copy = copy\n\u001b[32m--> \u001b[39m\u001b[32m445\u001b[39m objs, keys = \u001b[38;5;28;43mself\u001b[39;49m\u001b[43m.\u001b[49m\u001b[43m_clean_keys_and_objs\u001b[49m\u001b[43m(\u001b[49m\u001b[43mobjs\u001b[49m\u001b[43m,\u001b[49m\u001b[43m \u001b[49m\u001b[43mkeys\u001b[49m\u001b[43m)\u001b[49m\n\u001b[32m    447\u001b[39m \u001b[38;5;66;03m# figure out what our result ndim is going to be\u001b[39;00m\n\u001b[32m    448\u001b[39m ndims = \u001b[38;5;28mself\u001b[39m._get_ndims(objs)\n",
      "\u001b[36mFile \u001b[39m\u001b[32m~/Documents/GitHub/basic/lib/python3.13/site-packages/pandas/core/reshape/concat.py:507\u001b[39m, in \u001b[36m_Concatenator._clean_keys_and_objs\u001b[39m\u001b[34m(self, objs, keys)\u001b[39m\n\u001b[32m    504\u001b[39m     objs_list = \u001b[38;5;28mlist\u001b[39m(objs)\n\u001b[32m    506\u001b[39m \u001b[38;5;28;01mif\u001b[39;00m \u001b[38;5;28mlen\u001b[39m(objs_list) == \u001b[32m0\u001b[39m:\n\u001b[32m--> \u001b[39m\u001b[32m507\u001b[39m     \u001b[38;5;28;01mraise\u001b[39;00m \u001b[38;5;167;01mValueError\u001b[39;00m(\u001b[33m\"\u001b[39m\u001b[33mNo objects to concatenate\u001b[39m\u001b[33m\"\u001b[39m)\n\u001b[32m    509\u001b[39m \u001b[38;5;28;01mif\u001b[39;00m keys \u001b[38;5;129;01mis\u001b[39;00m \u001b[38;5;28;01mNone\u001b[39;00m:\n\u001b[32m    510\u001b[39m     objs_list = \u001b[38;5;28mlist\u001b[39m(com.not_none(*objs_list))\n",
      "\u001b[31mValueError\u001b[39m: No objects to concatenate"
     ]
    }
   ],
   "source": [
    "import pandas,os\n",
    "from tqdm import tqdm\n",
    "# SAVEDIR = \"data/cancelled_contracts\"\n",
    "\n",
    "SAVEDIR = \"data/\"\n",
    "os.makedirs(SAVEDIR, exist_ok=True)\n",
    "\n",
    "## Mike isn't manually catching these and I don't know why he doesn't seem to have to\n",
    "NA_STRS = [\"N/A\",\"NULL\"]\n",
    "\n",
    "dfs=[]\n",
    "             \n",
    "for file in tqdm(os.listdir(SAVEDIR)):\n",
    "    if file[-4:] == \"json\":\n",
    "        reason = file[-6]\n",
    "        ndf = pandas.read_json(SAVEDIR+\"/\"+file)\n",
    "        ndf[\"filedate\"] = file.split(\"contracts-\")[-1].split(\"_\")[0]\n",
    "        ndf[\"filename\"] = file\n",
    "        ndf[\"reason_code\"] = reason\n",
    "        dfs.append(ndf)\n",
    "\n",
    "df = pandas.concat(dfs)\n",
    "df = df.replace(NA_STRS, None)\n",
    "df.describe().transpose().head(50)\n",
    "\n",
    "fdf = df[df[\"reason_code\"]==\"F\"]\n",
    "fdf[\"filedate\"] = pandas.to_datetime(fdf[\"filedate\"])\n",
    "fdf[\"relevantContractDates__effectiveDate\"] = fdf[[\"content__award__relevantContractDates__effectiveDate\",\n",
    "                                                   \"content__IDV__relevantContractDates__effectiveDate\",\n",
    "                                                   \"content__OtherTransactionAward__contractDetail__relevantContractDates__effectiveDate\"]].fillna('').sum(axis=1)\n",
    "\n",
    "# rosief = fdf[fdf[\"filedate\"]<=\"2025-03-16\"]   # Limit files to a particular date?\n",
    "# Or just grab all the latest?\n",
    "\n",
    "rosief = fdf"
   ]
  },
  {
   "cell_type": "code",
   "execution_count": null,
   "id": "ce77bb47-7e32-40bf-bc22-8ff3f56cc964",
   "metadata": {},
   "outputs": [],
   "source": [
    "mikef = pandas.read_csv(\"collected_F.csv\")\n",
    "# mikef = mikef[mikef[\"filedate\"]<=\"2025-03-20\"]\n",
    "mikef_cols = pandas.Series(mikef.columns)\n",
    "mikef_cols_temp = mikef_cols[mikef_cols.str.contains(\"placeOfPerformance\")]\n",
    "mikef.groupby(\"contract_type\")[mikef_cols_temp].nunique()#.describe().head().transpose().head(50)#[\"dollarValues__obligatedAmount\"].sum()"
   ]
  },
  {
   "cell_type": "code",
   "execution_count": null,
   "id": "6f021e36-86e8-4d31-acdd-79664044b400",
   "metadata": {},
   "outputs": [],
   "source": [
    "## Cleaning for better alignment!\n",
    "\n",
    "def summary_sum(s):\n",
    "    try:\n",
    "        pandas.to_numeric(s).sum()\n",
    "    except:\n",
    "        return 0\n",
    "\n",
    "def agg(row,cols,method):\n",
    "    row[cols].agg(method)\n",
    "\n",
    "def count_nunique(cols,df):\n",
    "    ls = []\n",
    "    for col in cols:\n",
    "        ls += df[col].to_list()\n",
    "    return pandas.Series(ls).nunique()\n",
    "\n",
    "\n",
    "## Maybe could have avoided all of this by making them all strings to start out with\n",
    "def make_str_coerce_floats_to_int(messy_str,zfill=None):\n",
    "    if pandas.isna(messy_str):\n",
    "        return None\n",
    "    else:\n",
    "        temp = str(messy_str).split(\".\")[0]\n",
    "        if zfill:\n",
    "            return temp.zfill(zfill)\n",
    "        return temp\n",
    "    \n",
    "rosief[\"content__award__awardID__awardContractID__agencyID\"] = rosief[\"content__award__awardID__awardContractID__agencyID\"].apply(make_str_coerce_floats_to_int)\n",
    "mikef[\"awardContractID__agencyID\"] = mikef[\"awardContractID__agencyID\"].apply(make_str_coerce_floats_to_int)\n",
    "\n",
    "rosief[['content__award__purchaserInformation__contractingOfficeAgencyID',\n",
    "        'content__IDV__purchaserInformation__contractingOfficeAgencyID',\n",
    "        'content__OtherTransactionAward__contractDetail__purchaserInformation__contractingOfficeAgencyID']] = rosief[['content__award__purchaserInformation__contractingOfficeAgencyID',\n",
    "                                                                                                                      'content__IDV__purchaserInformation__contractingOfficeAgencyID',\n",
    "                                                                                                                      'content__OtherTransactionAward__contractDetail__purchaserInformation__contractingOfficeAgencyID']].map(make_str_coerce_floats_to_int)\n",
    "mikef[\"contractingOfficeAgencyID\"] = mikef[\"contractingOfficeAgencyID\"].apply(make_str_coerce_floats_to_int)\n",
    "\n",
    "rosief[['content__award__purchaserInformation__contractingOfficeAgencyID__departmentID',\n",
    "        'content__IDV__purchaserInformation__contractingOfficeAgencyID__departmentID',\n",
    "        'content__OtherTransactionAward__contractDetail__purchaserInformation__contractingOfficeAgencyID__departmentID']] = rosief[['content__award__purchaserInformation__contractingOfficeAgencyID__departmentID',\n",
    "                                                                                                                                    'content__IDV__purchaserInformation__contractingOfficeAgencyID__departmentID',\n",
    "                                                                                                                                    'content__OtherTransactionAward__contractDetail__purchaserInformation__contractingOfficeAgencyID__departmentID']].map(make_str_coerce_floats_to_int)\n",
    "mikef['contractingOfficeAgencyID__departmentID'] = mikef['contractingOfficeAgencyID__departmentID'].apply(make_str_coerce_floats_to_int)\n",
    "\n",
    "rosief[\"content__award__placeOfPerformance__placeOfPerformanceZIPCode\"] = rosief[\"content__award__placeOfPerformance__placeOfPerformanceZIPCode\"].apply(lambda x: make_str_coerce_floats_to_int(x,zfill=9))\n",
    "rosief[\"content__OtherTransactionAward__contractDetail__placeOfPerformance__placeOfPerformanceZIPCode\"] = rosief[\"content__OtherTransactionAward__contractDetail__placeOfPerformance__placeOfPerformanceZIPCode\"].apply(lambda x: make_str_coerce_floats_to_int(x,zfill=9))\n",
    "mikef[\"placeOfPerformanceZIPCode\"] = mikef[\"placeOfPerformanceZIPCode\"].apply(lambda x: make_str_coerce_floats_to_int(x,zfill=9))\n",
    "\n",
    "rosief[['content__award__vendor__vendorSiteDetails__vendorLocation__ZIPCode',\n",
    "         'content__IDV__vendor__vendorSiteDetails__vendorLocation__ZIPCode',\n",
    "         'content__OtherTransactionAward__contractDetail__vendor__vendorSiteDetails__vendorLocation__ZIPCode']] = rosief[['content__award__vendor__vendorSiteDetails__vendorLocation__ZIPCode',\n",
    "                                                                                                                             'content__IDV__vendor__vendorSiteDetails__vendorLocation__ZIPCode',\n",
    "                                                                                                                             'content__OtherTransactionAward__contractDetail__vendor__vendorSiteDetails__vendorLocation__ZIPCode']].map(make_str_coerce_floats_to_int,zfill=9)\n",
    "\n",
    "mikef[\"vendorLocation__ZIPCode\"] = mikef[\"vendorLocation__ZIPCode\"].apply(lambda x: make_str_coerce_floats_to_int(x,zfill=9))\n",
    "\n",
    "rosief[['content__award__vendor__vendorSiteDetails__vendorLocation__phoneNo',\n",
    "         'content__IDV__vendor__vendorSiteDetails__vendorLocation__phoneNo',\n",
    "         'content__OtherTransactionAward__contractDetail__vendor__vendorSiteDetails__vendorLocation__phoneNo']] = rosief[['content__award__vendor__vendorSiteDetails__vendorLocation__phoneNo',\n",
    "                                                                                                                         'content__IDV__vendor__vendorSiteDetails__vendorLocation__phoneNo',\n",
    "                                                                                                                         'content__OtherTransactionAward__contractDetail__vendor__vendorSiteDetails__vendorLocation__phoneNo']].map(make_str_coerce_floats_to_int)\n",
    "mikef[\"vendorLocation__phoneNo\"] = mikef[\"vendorLocation__phoneNo\"].apply(make_str_coerce_floats_to_int)\n"
   ]
  },
  {
   "cell_type": "code",
   "execution_count": null,
   "id": "c5ea57f8-6d9a-4087-ad71-94c79a6c8a9f",
   "metadata": {},
   "outputs": [],
   "source": [
    "def list_vals(coln,df2):\n",
    "    df2_cols = pandas.Series(df2.columns)\n",
    "    relevant = df2_cols[df2_cols.str.endswith(coln)]\n",
    "    rel_ls = relevant.to_list()\n",
    "    return rel_ls\n",
    "    \n",
    "mikef_col_df = pandas.DataFrame(mikef_cols)\n",
    "mikef_col_df.columns = [\"column_name\"]\n",
    "mikef_col_df[\"aggregated_cols\"] = mikef_col_df[\"column_name\"].apply(lambda x: list_vals(x,rosief))\n",
    "mikef_col_df[\"count_agg_cols\"] = mikef_col_df[\"aggregated_cols\"].apply(len)\n",
    "mikef_col_df[mikef_col_df[\"count_agg_cols\"]==4][\"aggregated_cols\"].loc[8]\n",
    "\n",
    "mikef_col_df[\"mike_count\"] = mikef_col_df[\"column_name\"].apply(lambda x: mikef[x].count())\n",
    "mikef_col_df[\"mike_sum\"] = mikef_col_df[\"column_name\"].apply(lambda x: summary_sum(x))\n",
    "mikef_col_df[\"mike_nunique\"] = mikef_col_df[\"column_name\"].apply(lambda x: mikef[x].nunique())\n",
    "\n",
    "mikef_col_df[\"rosie_count\"] = mikef_col_df.apply(lambda x: rosief[x[\"aggregated_cols\"]].count().sum(),axis=1)\n",
    "mikef_col_df[\"rosie_sum\"] = mikef_col_df.apply(lambda x: rosief[x[\"aggregated_cols\"]].apply(summary_sum).sum(),axis=1)\n",
    "mikef_col_df[\"rosie_nunique\"] = mikef_col_df[\"aggregated_cols\"].apply(lambda x: count_nunique(x,rosief))\n",
    "\n",
    "mikef_col_df[\"counts_match\"] = mikef_col_df[\"mike_count\"] == mikef_col_df[\"rosie_count\"]\n",
    "mikef_col_df[\"sums_match\"] = mikef_col_df[\"mike_sum\"] == mikef_col_df[\"rosie_sum\"]\n",
    "mikef_col_df[\"nunique_match\"] = mikef_col_df[\"mike_nunique\"] == mikef_col_df[\"rosie_nunique\"]\n",
    "\n",
    "mikef_col_df.to_csv(\"column_review.csv\")"
   ]
  },
  {
   "cell_type": "code",
   "execution_count": null,
   "id": "6ef0139a-e80d-4686-8709-ca9719512bc0",
   "metadata": {},
   "outputs": [],
   "source": [
    "rosief[\"content__award__awardID__awardContractID__agencyID\"] = rosief[\"content__award__awardID__awardContractID__agencyID\"].apply(make_str_coerce_floats_to_int)\n",
    "mikef[\"awardContractID__agencyID\"] = mikef[\"awardContractID__agencyID\"].apply(make_str_coerce_floats_to_int)\n",
    "\n",
    "mikef_col_df[~mikef_col_df[\"counts_match\"]]#[\"aggregated_cols\"].iloc[-1]"
   ]
  },
  {
   "cell_type": "markdown",
   "id": "2d805dcc-9352-4ea2-be49-b1ecf66b7916",
   "metadata": {},
   "source": [
    "# The rest of this is junk/scratch notes!"
   ]
  },
  {
   "cell_type": "code",
   "execution_count": null,
   "id": "b2edc82f-e396-4b43-afc6-1a37fb07e39e",
   "metadata": {},
   "outputs": [],
   "source": [
    "rosie_zips = pandas.concat([rosief[\"content__award__placeOfPerformance__placeOfPerformanceZIPCode\"],rosief[\"content__OtherTransactionAward__contractDetail__placeOfPerformance__placeOfPerformanceZIPCode\"]])\n",
    "rosie_zips.value_counts()\n",
    "\n",
    "temp = pandas.concat([mikef[\"placeOfPerformanceZIPCode\"].value_counts(),rosie_zips.value_counts()], axis=1)\n",
    "temp.columns = [\"m\",\"r\"]\n",
    "temp[temp[\"m\"]!=temp[\"r\"]]"
   ]
  },
  {
   "cell_type": "code",
   "execution_count": null,
   "id": "8c476483-1563-4819-aa9c-fa8757a13a9a",
   "metadata": {},
   "outputs": [],
   "source": [
    "\n",
    "#df['combined'] = df['col1'].fillna(df['col2'])\n",
    "\n",
    "rosief[\"combine_zip\"] = rosief['content__award__placeOfPerformance__placeOfPerformanceZIPCode'].fillna(rosief['content__OtherTransactionAward__contractDetail__placeOfPerformance__placeOfPerformanceZIPCode'])\n",
    "rosief[\"temp_zip_col\"] = rosief[\"combine_zip\"].apply(lambda x: str(x).split(\".\")[0]).str.zfill(9)\n",
    "mikef[\"temp_zip_col\"] = mikef[\"placeOfPerformanceZIPCode\"].apply(lambda x: str(x).split(\".\")[0]).str.zfill(9)\n",
    "\n",
    "zip_temp = pandas.concat([rosief[\"temp_zip_col\"].value_counts(),mikef[\"temp_zip_col\"].value_counts()],axis=1)\n",
    "zip_temp.columns = [\"rosie_count\",\"mike_count\"]\n",
    "zip_temp[zip_temp[\"rosie_count\"]!=zip_temp[\"mike_count\"]]"
   ]
  },
  {
   "cell_type": "code",
   "execution_count": null,
   "id": "d6eb8749-6f33-456e-915a-0c9cf7f1e19d",
   "metadata": {},
   "outputs": [],
   "source": [
    "mikef_col_df[~mikef_col_df[\"nunique_match\"]][\"aggregated_cols\"].iloc[-1]"
   ]
  },
  {
   "cell_type": "code",
   "execution_count": null,
   "id": "1c2d88dd-b943-4752-9151-19a827c6f30e",
   "metadata": {},
   "outputs": [],
   "source": [
    "rosief[\"temp_contract_off_id\"] = rosief[['content__award__purchaserInformation__contractingOfficeAgencyID',\n",
    "                                      'content__IDV__purchaserInformation__contractingOfficeAgencyID',\n",
    "                                      'content__OtherTransactionAward__contractDetail__purchaserInformation__contractingOfficeAgencyID']].fillna(\"\").astype(str).sum(axis=1)\n",
    "\n",
    "rosief[\"temp_contract_off_id\"] = rosief[\"temp_contract_off_id\"].apply(make_str_coerce_floats_to_int)\n",
    "rosief.groupby(\"contract_type\")[\"temp_contract_off_id\"].nunique()"
   ]
  },
  {
   "cell_type": "code",
   "execution_count": null,
   "id": "bb18be11-ca8c-4bbb-87b9-5cfa8019afa4",
   "metadata": {},
   "outputs": [],
   "source": [
    "rosief[\"temp_contract_off_id\"] = rosief[\"temp_contract_off_id\"].apply(make_str_coerce_floats_to_int)\n",
    "mikef.groupby(\"contract_type\")[\"contractingOfficeAgencyID\"].nunique()"
   ]
  },
  {
   "cell_type": "code",
   "execution_count": null,
   "id": "49305169-5d56-44f9-86c4-b64da43bea88",
   "metadata": {},
   "outputs": [],
   "source": [
    "mikef[mikef[\"contractingOfficeAgencyID\"].isin(rosief[\"temp_contract_off_id\"])==False][\"contractingOfficeAgencyID\"].value_counts()"
   ]
  },
  {
   "cell_type": "code",
   "execution_count": null,
   "id": "55630339-802c-4e48-a3fc-948b1030992f",
   "metadata": {},
   "outputs": [],
   "source": [
    "mikef[mikef[\"contractingOfficeAgencyID\"]==\"4732\"].head().transpose().head(50)[0].title"
   ]
  },
  {
   "cell_type": "code",
   "execution_count": null,
   "id": "bf66474e-2f03-4272-a779-fdd967a6ad70",
   "metadata": {},
   "outputs": [],
   "source": [
    "TITLE = 'DELIVERY ORDER 47QSSC25F3UL7 (P00001) awarded to JLWS ENTERPRISES INCORPORATED, was modified for the amount of -$804.05'\n",
    "\n",
    "rosief[(rosief[\"filename\"]==\"contracts-2025-01-20_F.json\")&(rosief[\"title\"]==TITLE)][\"temp_contract_off_id\"]"
   ]
  },
  {
   "cell_type": "code",
   "execution_count": null,
   "id": "ceaa251a-081a-43f4-b910-5d2599cd65a2",
   "metadata": {},
   "outputs": [],
   "source": [
    "4732 in rosief[\"temp_contract_off_id\"]"
   ]
  },
  {
   "cell_type": "code",
   "execution_count": null,
   "id": "ace9c818-cfbc-4716-bf0e-47359decbb93",
   "metadata": {},
   "outputs": [],
   "source": [
    "rosief[\"temp_contract_off_id\"].value_counts()"
   ]
  },
  {
   "cell_type": "code",
   "execution_count": null,
   "id": "f9fe5481-fbad-42d0-a8b2-db5866e7dd21",
   "metadata": {},
   "outputs": [],
   "source": [
    "rosief.groupby(\"contract_type\")[['content__award__vendor__vendorSiteDetails__vendorLocation__state',\n",
    " 'content__IDV__vendor__vendorSiteDetails__vendorLocation__state',\n",
    " 'content__OtherTransactionAward__contractDetail__vendor__vendorSiteDetails__vendorLocation__state']].count()\n",
    "\n",
    "rosief[\"temp_vendor_state\"] = rosief[['content__award__vendor__vendorSiteDetails__vendorLocation__state',\n",
    " 'content__IDV__vendor__vendorSiteDetails__vendorLocation__state',\n",
    " 'content__OtherTransactionAward__contractDetail__vendor__vendorSiteDetails__vendorLocation__state']].fillna('').sum(axis=1)\n",
    "\n",
    "rosief[\"temp_vendor_state\"].value_counts()\n",
    "\n",
    "state_temp = pandas.concat([rosief[\"temp_vendor_state\"].value_counts(),mikef[\"vendorLocation__state\"].value_counts()],axis=1)\n",
    "state_temp.columns = [\"rosie_count\",\"mike_count\"]\n",
    "state_temp[state_temp[\"rosie_count\"]!=state_temp[\"mike_count\"]]"
   ]
  },
  {
   "cell_type": "code",
   "execution_count": null,
   "id": "fc25d6ef-7ba0-48f1-b52c-ce1ea64253a1",
   "metadata": {},
   "outputs": [],
   "source": [
    "mikef[\"content__award__contractData__solicitationID\"].unique()"
   ]
  },
  {
   "cell_type": "code",
   "execution_count": null,
   "id": "38863159-92b3-44f2-bb99-ab069a03f2e3",
   "metadata": {},
   "outputs": [],
   "source": [
    "rosief[\"content__award__contractData__solicitationID\"].unique()"
   ]
  }
 ],
 "metadata": {
  "kernelspec": {
   "display_name": "Python 3 (ipykernel)",
   "language": "python",
   "name": "python3"
  },
  "language_info": {
   "codemirror_mode": {
    "name": "ipython",
    "version": 3
   },
   "file_extension": ".py",
   "mimetype": "text/x-python",
   "name": "python",
   "nbconvert_exporter": "python",
   "pygments_lexer": "ipython3",
   "version": "3.13.3"
  }
 },
 "nbformat": 4,
 "nbformat_minor": 5
}
