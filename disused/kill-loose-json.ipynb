{
 "cells": [
  {
   "cell_type": "code",
   "execution_count": 11,
   "id": "17281958-d477-482b-9f07-33e7a234fd2e",
   "metadata": {},
   "outputs": [],
   "source": [
    "from bln.client import Client\n",
    "from tqdm import tqdm\n",
    "\n",
    "from multiprocessing import Pool\n",
    "import os"
   ]
  },
  {
   "cell_type": "code",
   "execution_count": 12,
   "id": "2c21792e-a48d-42cc-b024-b7c4a2f24f6c",
   "metadata": {},
   "outputs": [],
   "source": [
    "bln_api = os.environ[\"BLN_API_TOKEN\"]\n",
    "bln = Client(bln_api)\n",
    "project = bln.get_project_by_name(\"Federal contract cancellations\")\n",
    "project_id = project[\"id\"]\n",
    "\n",
    "# Get all the files in the project.\n",
    "bln_files = {}\n",
    "for f in project[\"files\"]:\n",
    "    bln_files[f[\"name\"]] = f[\"updatedAt\"]"
   ]
  },
  {
   "cell_type": "raw",
   "id": "4d9a7916-b8cb-42c6-801b-f5d7b931fb52",
   "metadata": {},
   "source": [
    "def deletefile(filename):\n",
    "    bln.deleteFile(project_id, filename)\n",
    "    return"
   ]
  },
  {
   "cell_type": "code",
   "execution_count": 13,
   "id": "6977008d-b2cc-414e-90df-70125380278e",
   "metadata": {},
   "outputs": [
    {
     "name": "stdout",
     "output_type": "stream",
     "text": [
      "0\n"
     ]
    }
   ],
   "source": [
    "nukelist = []\n",
    "for bln_file in bln_files:\n",
    "    if bln_file.endswith(\".json\"):\n",
    "        nukelist.append(bln_file)\n",
    "print(len(nukelist))"
   ]
  },
  {
   "cell_type": "raw",
   "id": "8fd1d33b-b931-455f-a711-d01e3f43e574",
   "metadata": {},
   "source": [
    "if __name__ == '__main__': # Essential for multiprocessing in notebooks\n",
    "    with Pool(15) as p:\n",
    "        results = p.map(deletefile, nukelist)\n",
    "        print(results)\n",
    "\n",
    "#for bln_file in tqdm(bln_files):\n",
    "#    if bln_file.endswith(\".json\"):\n",
    "#        bln.deleteFile(project_id, bln_file)"
   ]
  },
  {
   "cell_type": "code",
   "execution_count": 10,
   "id": "93c701b5-5ee5-4057-89ce-31a4b1d028c7",
   "metadata": {},
   "outputs": [
    {
     "name": "stderr",
     "output_type": "stream",
     "text": [
      "100%|████████████████████████████████████████████████████████████████████████████████| 454/454 [15:39<00:00,  2.07s/it]\n"
     ]
    }
   ],
   "source": [
    "for filename in tqdm(nukelist):\n",
    "    bln.deleteFile(project_id, filename)\n"
   ]
  },
  {
   "cell_type": "code",
   "execution_count": null,
   "id": "f2a79f68-18d2-42d9-ab0f-e6300415d222",
   "metadata": {},
   "outputs": [],
   "source": []
  }
 ],
 "metadata": {
  "kernelspec": {
   "display_name": "Python 3 (ipykernel)",
   "language": "python",
   "name": "python3"
  },
  "language_info": {
   "codemirror_mode": {
    "name": "ipython",
    "version": 3
   },
   "file_extension": ".py",
   "mimetype": "text/x-python",
   "name": "python",
   "nbconvert_exporter": "python",
   "pygments_lexer": "ipython3",
   "version": "3.13.2"
  }
 },
 "nbformat": 4,
 "nbformat_minor": 5
}
