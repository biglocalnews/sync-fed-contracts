{
 "cells": [
  {
   "cell_type": "code",
   "execution_count": 1,
   "id": "3a134a10-1454-4ae8-87cf-5c95ab499c81",
   "metadata": {},
   "outputs": [],
   "source": [
    "from utils import *"
   ]
  },
  {
   "cell_type": "code",
   "execution_count": 8,
   "id": "f6b4d474-05bf-497a-8cfd-44e3a0bd65b1",
   "metadata": {},
   "outputs": [
    {
     "name": "stderr",
     "output_type": "stream",
     "text": [
      "04:29:21 DEBUG:450 loose JSON files might get archived.\n",
      "04:29:21 DEBUG:445 duplicates found, both loose JSON and in the ZIP. You'll want to clear these out yourself. This program will neither replace nor delete them.\n",
      "04:29:21 DEBUG:5 files remain to be added to the ZIP.\n",
      "04:29:21 DEBUG:Confirmed: Writing 5 files to archive.\n",
      "100%|████████████████████████████████████████████████████████████████████████████████████| 5/5 [00:01<00:00,  4.61it/s]\n"
     ]
    }
   ],
   "source": [
    "archive_json(deleteafterarchiving=True)"
   ]
  },
  {
   "cell_type": "code",
   "execution_count": null,
   "id": "ed5ab132-d828-489b-9240-6abd1d700732",
   "metadata": {},
   "outputs": [],
   "source": [
    "jsonlist = list_archived_json()"
   ]
  },
  {
   "cell_type": "code",
   "execution_count": null,
   "id": "377898a9-693d-40f6-9369-1e202e080065",
   "metadata": {},
   "outputs": [],
   "source": [
    "rawfiles = list_loose_json()\n"
   ]
  },
  {
   "cell_type": "code",
   "execution_count": null,
   "id": "c8a75099-1887-4bea-9589-089f086d28f6",
   "metadata": {},
   "outputs": [],
   "source": [
    "sorted(jsonlist)[:10] == sorted(rawfiles)[:10]"
   ]
  },
  {
   "cell_type": "code",
   "execution_count": null,
   "id": "063334e4-14b1-4a61-8ba5-4ed54b68eb30",
   "metadata": {},
   "outputs": [],
   "source": [
    "sorted(jsonlist)[:10]"
   ]
  },
  {
   "cell_type": "code",
   "execution_count": null,
   "id": "6b01fb46-36e4-4280-8947-23c39b3c8842",
   "metadata": {},
   "outputs": [],
   "source": [
    "sorted(rawfiles)[0] in jsonlist"
   ]
  },
  {
   "cell_type": "code",
   "execution_count": 2,
   "id": "4163577d-10ec-4d58-9fb0-9e6860dff370",
   "metadata": {},
   "outputs": [
    {
     "data": {
      "text/plain": [
       "'data/archived_json.zip'"
      ]
     },
     "execution_count": 2,
     "metadata": {},
     "output_type": "execute_result"
    }
   ],
   "source": [
    "archivefile"
   ]
  },
  {
   "cell_type": "code",
   "execution_count": 21,
   "id": "a882fc4d-6c1a-4467-96a5-c1584c6d4669",
   "metadata": {},
   "outputs": [],
   "source": [
    "import json"
   ]
  },
  {
   "cell_type": "code",
   "execution_count": 14,
   "id": "77e656cd-cfa1-4f79-96b8-b5762ce7491e",
   "metadata": {},
   "outputs": [],
   "source": [
    "reason = \"F\""
   ]
  },
  {
   "cell_type": "code",
   "execution_count": 16,
   "id": "9d382523-9454-4034-b53c-77a1044837bb",
   "metadata": {},
   "outputs": [],
   "source": []
  },
  {
   "cell_type": "code",
   "execution_count": 27,
   "id": "370ce0ae-56ab-4311-9275-e9b98cf7354b",
   "metadata": {},
   "outputs": [
    {
     "name": "stderr",
     "output_type": "stream",
     "text": [
      "100%|██████████████████████████████████████████████████████████████████████████████████| 90/90 [00:12<00:00,  7.10it/s]\n"
     ]
    }
   ],
   "source": [
    "jsonlist = list_archived_json()\n",
    "with zipfile.ZipFile(archivefile, \"r\") as myzip:\n",
    "    localfiles = [item for item in jsonlist if item.endswith(f\"{reason}.json\")]\n",
    "    for basefilename in tqdm(localfiles):\n",
    "        with myzip.open(basefilename) as myfile:\n",
    "            rawjson = json.loads(myfile.read())"
   ]
  },
  {
   "cell_type": "code",
   "execution_count": 28,
   "id": "de259054-1157-4659-8455-16424413e3ff",
   "metadata": {},
   "outputs": [
    {
     "name": "stderr",
     "output_type": "stream",
     "text": [
      "100%|████████████████████████████████████████████████████████████████████████████████| 450/450 [00:12<00:00, 36.02it/s]\n"
     ]
    }
   ],
   "source": [
    "jsonlist = list_archived_json()\n",
    "with zipfile.ZipFile(archivefile, \"r\") as myzip:\n",
    "    for basefilename in tqdm(jsonlist):\n",
    "        if basefilename.endswith(f\"{reason}.json\"):\n",
    "            with myzip.open(basefilename) as myfile:\n",
    "                rawjson = json.loads(myfile.read())"
   ]
  },
  {
   "cell_type": "code",
   "execution_count": 36,
   "id": "745f1428-09fc-4902-88ea-d1e4cb0f5836",
   "metadata": {},
   "outputs": [],
   "source": [
    "myzip = zipfile.ZipFile(archivefile, \"r\")"
   ]
  },
  {
   "cell_type": "code",
   "execution_count": 40,
   "id": "8fa82c69-1f1e-4451-b113-435ae095438d",
   "metadata": {},
   "outputs": [],
   "source": [
    "fml = myzip.open"
   ]
  },
  {
   "cell_type": "code",
   "execution_count": 42,
   "id": "3992e92d-db46-4db8-a3f5-9d506fc46a64",
   "metadata": {},
   "outputs": [
    {
     "ename": "AttributeError",
     "evalue": "'function' object has no attribute '__iter__'",
     "output_type": "error",
     "traceback": [
      "\u001b[31m---------------------------------------------------------------------------\u001b[39m",
      "\u001b[31mAttributeError\u001b[39m                            Traceback (most recent call last)",
      "\u001b[36mCell\u001b[39m\u001b[36m \u001b[39m\u001b[32mIn[42]\u001b[39m\u001b[32m, line 1\u001b[39m\n\u001b[32m----> \u001b[39m\u001b[32m1\u001b[39m \u001b[43mfml\u001b[49m\u001b[43m.\u001b[49m\u001b[34;43m__iter__\u001b[39;49m()\n",
      "\u001b[31mAttributeError\u001b[39m: 'function' object has no attribute '__iter__'"
     ]
    }
   ],
   "source": [
    "fml.__iter__()"
   ]
  },
  {
   "cell_type": "code",
   "execution_count": null,
   "id": "73480169-0a37-47f6-8dd0-e0e73dc6c566",
   "metadata": {},
   "outputs": [],
   "source": []
  }
 ],
 "metadata": {
  "kernelspec": {
   "display_name": "Python 3 (ipykernel)",
   "language": "python",
   "name": "python3"
  },
  "language_info": {
   "codemirror_mode": {
    "name": "ipython",
    "version": 3
   },
   "file_extension": ".py",
   "mimetype": "text/x-python",
   "name": "python",
   "nbconvert_exporter": "python",
   "pygments_lexer": "ipython3",
   "version": "3.13.2"
  }
 },
 "nbformat": 4,
 "nbformat_minor": 5
}
