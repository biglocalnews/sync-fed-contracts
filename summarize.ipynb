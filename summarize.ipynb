{
 "cells": [
  {
   "cell_type": "code",
   "execution_count": 1,
   "id": "dad103bd-e0f3-41b6-b272-3d62d9a837ac",
   "metadata": {},
   "outputs": [],
   "source": [
    "from tqdm import tqdm\n",
    "\n",
    "import csv\n",
    "from decimal import *\n",
    "from glob import glob\n",
    "import json"
   ]
  },
  {
   "cell_type": "code",
   "execution_count": 2,
   "id": "8bf0dcf9-67aa-42d4-8835-159c88bdda9e",
   "metadata": {},
   "outputs": [],
   "source": [
    "datadir = \"data/\""
   ]
  },
  {
   "cell_type": "code",
   "execution_count": 3,
   "id": "26c24632-f9f2-4efc-86a2-8e0a3499b2d7",
   "metadata": {},
   "outputs": [],
   "source": [
    "# DANGER getcontext().prec = 2    # Two decimal digits -- pennies"
   ]
  },
  {
   "cell_type": "code",
   "execution_count": 4,
   "id": "23c07ec1-230c-4ff8-8f68-ee23bdc37273",
   "metadata": {},
   "outputs": [],
   "source": [
    "prefixes = {\n",
    "    \"E\": \"content__IDV__\",\n",
    "    \"F\": \"content__award__\",\n",
    "    \"K\": \"content__award__\",\n",
    "    \"N\": \"content__award__\",\n",
    "    \"X\": \"content__award__\",\n",
    "}\n",
    "\n",
    "# hahaha no"
   ]
  },
  {
   "cell_type": "code",
   "execution_count": 5,
   "id": "076291e1-7181-4b5d-842f-7ad308ac9e0a",
   "metadata": {},
   "outputs": [],
   "source": [
    "prefixes = {\n",
    "    \"IDV\": \"content__IDV__\",\n",
    "    \"AWARD\": \"content__award__\",\n",
    "    \"OTHERTRANSACTIONAWARD\": \"content__OtherTransactionAward__contractDetail__\",\n",
    "}"
   ]
  },
  {
   "cell_type": "code",
   "execution_count": 6,
   "id": "e9098713-944e-48a1-98e0-46348e92696a",
   "metadata": {},
   "outputs": [],
   "source": [
    "valueswanted = [\n",
    "    \"dollarValues__obligatedAmount\",\n",
    "    \"dollarValues__baseAndAllOptionsValue\",\n",
    "    \"totalDollarValues__totalObligatedAmount\",\n",
    "    \"totalDollarValues__totalBaseAndAllOptionsValue\",\n",
    "]"
   ]
  },
  {
   "cell_type": "code",
   "execution_count": 7,
   "id": "f8bc381e-d90d-4c2b-a761-df22e298e107",
   "metadata": {},
   "outputs": [
    {
     "name": "stderr",
     "output_type": "stream",
     "text": [
      "100%|████████████████████████████████████████████████████████████████████████████████| 300/300 [00:11<00:00, 26.10it/s]\n"
     ]
    }
   ],
   "source": [
    "rawfilenames = list(sorted(glob(datadir + \"*.json\")))\n",
    "basefilenames = {}\n",
    "for rawfilename in tqdm(rawfilenames):\n",
    "    basefilename = rawfilename.replace(\"\\\\\", \"/\").replace(datadir, \"\")\n",
    "    localdict = {}\n",
    "    localdict['filename'] = basefilename\n",
    "    localdict['date'] = basefilename.split(\"contracts-\")[-1].split(\"_\")[0]\n",
    "    reason = basefilename.split(\".json\")[0].split(\"_\")[-1]\n",
    "    localdict['reason'] = reason\n",
    "    with open(rawfilename, \"r\", encoding=\"utf-8\") as infile:\n",
    "        rawjson = json.load(infile)\n",
    "    localdict['entries'] = len(rawjson)\n",
    "    for valuewanted in valueswanted:\n",
    "        localdict[valuewanted] = Decimal(0)\n",
    "    for entry in rawjson:\n",
    "        prefix = prefixes[entry['contract_type']]\n",
    "        for valuewanted in valueswanted:\n",
    "            localdict[valuewanted] += Decimal(entry[prefix + valuewanted].replace(\",\", \"\").replace(\"$\", \"\"))\n",
    "    \n",
    "    basefilenames[basefilename] = localdict"
   ]
  },
  {
   "cell_type": "code",
   "execution_count": 8,
   "id": "d939cf57-c684-4790-b079-c6c9c8923932",
   "metadata": {},
   "outputs": [],
   "source": [
    "with open(\"file-summaries.csv\", \"w\", encoding=\"utf-8\", newline=\"\") as outfile:\n",
    "    writer = csv.writer(outfile)\n",
    "    writer.writerow(list(localdict.keys()))\n",
    "    for basefilename in basefilenames:\n",
    "        writer.writerow(list(basefilenames[basefilename].values()))"
   ]
  },
  {
   "cell_type": "code",
   "execution_count": 9,
   "id": "3fa839ea-5af3-4f52-a215-e1e1764b4c97",
   "metadata": {},
   "outputs": [
    {
     "data": {
      "text/plain": [
       "'contracts-2025-03-20_X.json'"
      ]
     },
     "execution_count": 9,
     "metadata": {},
     "output_type": "execute_result"
    }
   ],
   "source": [
    "basefilename"
   ]
  },
  {
   "cell_type": "code",
   "execution_count": 10,
   "id": "d7ac7c38-d76e-43fd-b3a8-00d166b97125",
   "metadata": {},
   "outputs": [
    {
     "data": {
      "text/plain": [
       "'data\\\\contracts-2025-03-20_X.json'"
      ]
     },
     "execution_count": 10,
     "metadata": {},
     "output_type": "execute_result"
    }
   ],
   "source": [
    "rawfilename"
   ]
  },
  {
   "cell_type": "code",
   "execution_count": 11,
   "id": "3cd1611e-61ee-4722-b930-dd50fbd3b61c",
   "metadata": {},
   "outputs": [
    {
     "data": {
      "text/plain": [
       "'3214536.38'"
      ]
     },
     "execution_count": 11,
     "metadata": {},
     "output_type": "execute_result"
    }
   ],
   "source": [
    "str(localdict['totalDollarValues__totalObligatedAmount'])"
   ]
  },
  {
   "cell_type": "code",
   "execution_count": null,
   "id": "deb6b4da-d53f-4eb7-a6b5-d2c62ba9effe",
   "metadata": {},
   "outputs": [],
   "source": []
  },
  {
   "cell_type": "code",
   "execution_count": null,
   "id": "627ec023-6a40-4c8f-9ff1-fec5f340f4bd",
   "metadata": {},
   "outputs": [],
   "source": []
  },
  {
   "cell_type": "code",
   "execution_count": null,
   "id": "08309557-0db4-46a0-b1ea-0fadd1b5aeb3",
   "metadata": {},
   "outputs": [],
   "source": []
  },
  {
   "cell_type": "code",
   "execution_count": null,
   "id": "215ae0fc-ca3f-448a-8d4c-5aba5cfdadbe",
   "metadata": {},
   "outputs": [],
   "source": []
  }
 ],
 "metadata": {
  "kernelspec": {
   "display_name": "Python 3 (ipykernel)",
   "language": "python",
   "name": "python3"
  },
  "language_info": {
   "codemirror_mode": {
    "name": "ipython",
    "version": 3
   },
   "file_extension": ".py",
   "mimetype": "text/x-python",
   "name": "python",
   "nbconvert_exporter": "python",
   "pygments_lexer": "ipython3",
   "version": "3.13.2"
  }
 },
 "nbformat": 4,
 "nbformat_minor": 5
}
